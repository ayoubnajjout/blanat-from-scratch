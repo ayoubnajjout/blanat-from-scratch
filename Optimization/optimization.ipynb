{
 "cells": [
  {
   "cell_type": "markdown",
   "metadata": {},
   "source": [
    "# Optimizing a Lineaire regression model with both `Gradient Descent` & `Newton's method`"
   ]
  },
  {
   "cell_type": "markdown",
   "metadata": {},
   "source": [
    "1. Generating a random data with 100 line using `numpy`: "
   ]
  },
  {
   "cell_type": "code",
   "metadata": {
    "ExecuteTime": {
     "end_time": "2024-11-18T22:35:06.648362Z",
     "start_time": "2024-11-18T22:35:06.635817Z"
    }
   },
   "source": [
    "import numpy as np\n",
    "import pandas as pd\n",
    "import matplotlib.pyplot as plt\n",
    "from sklearn.model_selection import train_test_split\n",
    "from sklearn.metrics import r2_score, mean_absolute_error"
   ],
   "outputs": [],
   "execution_count": 10
  },
  {
   "cell_type": "code",
   "metadata": {
    "ExecuteTime": {
     "end_time": "2024-11-18T22:35:06.693948Z",
     "start_time": "2024-11-18T22:35:06.665514Z"
    }
   },
   "source": [
    "np.random.seed(42)\n",
    "\n",
    "x = np.random.rand(100, 1) * 10  \n",
    "\n",
    "true_slope = 2\n",
    "true_intercept = 5\n",
    "noise = np.random.randn(100, 1)\n",
    "y = true_slope * x + true_intercept + noise\n",
    "\n",
    "df = pd.DataFrame({'x': x.flatten(), 'y': y.flatten()})"
   ],
   "outputs": [],
   "execution_count": 11
  },
  {
   "cell_type": "markdown",
   "metadata": {},
   "source": [
    "2. Splitting the Data to `Train` & `Test`"
   ]
  },
  {
   "cell_type": "code",
   "metadata": {
    "ExecuteTime": {
     "end_time": "2024-11-18T22:35:06.767884Z",
     "start_time": "2024-11-18T22:35:06.756358Z"
    }
   },
   "source": [
    "X = df[['x']]\n",
    "y = df['y']"
   ],
   "outputs": [],
   "execution_count": 12
  },
  {
   "cell_type": "code",
   "metadata": {
    "ExecuteTime": {
     "end_time": "2024-11-18T22:35:06.853628Z",
     "start_time": "2024-11-18T22:35:06.835090Z"
    }
   },
   "source": [
    "X_train, X_test, y_train, y_test = train_test_split(X, y, test_size=0.2, random_state=42)"
   ],
   "outputs": [],
   "execution_count": 13
  },
  {
   "cell_type": "markdown",
   "metadata": {},
   "source": [
    "3. Optimizing using `Gradient Descent`:"
   ]
  },
  {
   "cell_type": "code",
   "metadata": {
    "ExecuteTime": {
     "end_time": "2024-11-18T22:35:06.965604Z",
     "start_time": "2024-11-18T22:35:06.912750Z"
    }
   },
   "source": [
    "def gradient_descent(X, y, learning_rate=0.01, n_iters=1000):\n",
    "    X = np.array(X)\n",
    "    y = np.array(y)\n",
    "    n_samples, n_features = X.shape\n",
    "    weights = np.zeros(n_features)\n",
    "    bias = 0\n",
    "    for _ in range(n_iters):\n",
    "        y_pred = np.dot(X, weights) + bias\n",
    "        dw = (1 / n_samples) * np.dot(X.T, (y_pred - y))\n",
    "        db = (1 / n_samples) * np.sum(y_pred - y)\n",
    "        weights -= learning_rate * dw\n",
    "        bias -= learning_rate * db\n",
    "    return weights, bias\n",
    "\n",
    "grad_weights, grad_bias = gradient_descent(X_train, y_train)\n",
    "grad_weights, grad_bias\n"
   ],
   "outputs": [
    {
     "data": {
      "text/plain": [
       "(array([2.00778896]), np.float64(4.834534792680418))"
      ]
     },
     "execution_count": 14,
     "metadata": {},
     "output_type": "execute_result"
    }
   ],
   "execution_count": 14
  },
  {
   "cell_type": "markdown",
   "metadata": {},
   "source": [
    "4. Optimizing using `Newton method`:"
   ]
  },
  {
   "cell_type": "code",
   "metadata": {
    "ExecuteTime": {
     "end_time": "2024-11-18T22:35:07.051959Z",
     "start_time": "2024-11-18T22:35:06.987452Z"
    }
   },
   "source": [
    "def newton_optimization(X, y, n_iters=1000):\n",
    "    X = np.array(X)\n",
    "    y = np.array(y)\n",
    "    n_samples, n_features = X.shape\n",
    "    weights = np.zeros(n_features)\n",
    "    bias = 0\n",
    "    for _ in range(n_iters):\n",
    "        y_pred = np.dot(X, weights) + bias\n",
    "        dw = (1 / n_samples) * np.dot(X.T, (y_pred - y))\n",
    "        db = (1 / n_samples) * np.sum(y_pred - y)\n",
    "        H = (1 / n_samples) * np.dot(X.T, X)\n",
    "        H_inv = np.linalg.inv(H)\n",
    "        weights -= np.dot(H_inv, dw)\n",
    "        bias -= np.sum(H_inv * db)\n",
    "    return weights, bias\n",
    "\n",
    "new_weights, new_bias = newton_optimization(X_train, y_train)\n",
    "new_weights, new_bias"
   ],
   "outputs": [
    {
     "data": {
      "text/plain": [
       "(array([1.95995465]), np.float64(5.142334710520829))"
      ]
     },
     "execution_count": 15,
     "metadata": {},
     "output_type": "execute_result"
    }
   ],
   "execution_count": 15
  },
  {
   "cell_type": "markdown",
   "metadata": {},
   "source": [
    "5. implementing both equations based on the `weight` and `bias` of previous optimizations:"
   ]
  },
  {
   "cell_type": "code",
   "metadata": {
    "ExecuteTime": {
     "end_time": "2024-11-18T22:35:07.081759Z",
     "start_time": "2024-11-18T22:35:07.076427Z"
    }
   },
   "source": [
    "y_pred_line1 = X_train @ grad_weights + grad_bias\n",
    "y_pred_line2 = X_train @ new_weights + new_bias"
   ],
   "outputs": [],
   "execution_count": 16
  },
  {
   "cell_type": "markdown",
   "metadata": {},
   "source": [
    "6. Plotting both lines:"
   ]
  },
  {
   "cell_type": "code",
   "metadata": {
    "ExecuteTime": {
     "end_time": "2024-11-18T22:35:07.331694Z",
     "start_time": "2024-11-18T22:35:07.107432Z"
    }
   },
   "source": [
    "plt.scatter(X_train, y_train, color='blue', label=\"Actual Data\", alpha=0.6)\n",
    "\n",
    "plt.plot(X_train, y_pred_line1, color='red', label=\"Gradient Descent optimization Weights Line\")\n",
    "\n",
    "plt.plot(X_train, y_pred_line2, color='green', label=\"Newton optimization Weights Line\")\n",
    "\n",
    "plt.title(\"Comparison of Regression Lines\")\n",
    "plt.xlabel(\"x1 (Feature)\")\n",
    "plt.ylabel(\"y (Target)\")\n",
    "plt.legend()\n",
    "plt.show()"
   ],
   "outputs": [
    {
     "data": {
      "text/plain": [
       "<Figure size 640x480 with 1 Axes>"
      ],
      "image/png": "[encoded data removed]"
     },
     "metadata": {},
     "output_type": "display_data"
    }
   ],
   "execution_count": 17
  },
  {
   "cell_type": "markdown",
   "metadata": {},
   "source": [
    "7. Test Set Performance Metrics:"
   ]
  },
  {
   "cell_type": "code",
   "metadata": {
    "ExecuteTime": {
     "end_time": "2024-11-18T22:35:07.369127Z",
     "start_time": "2024-11-18T22:35:07.357698Z"
    }
   },
   "source": [
    "y_test_pred1 = X_test @ grad_weights + grad_bias\n",
    "y_test_pred2 = X_test @ new_weights + new_bias\n",
    "\n",
    "r2_test1 = r2_score(y_test, y_test_pred1) * 100  \n",
    "r2_test2 = r2_score(y_test, y_test_pred2) * 100\n",
    "\n",
    "mae_test1 = mean_absolute_error(y_test, y_test_pred1)\n",
    "mae_test2 = mean_absolute_error(y_test, y_test_pred2)\n",
    "\n",
    "mean_y_test = np.mean(y_test)\n",
    "accuracy_test1 = (1 - mae_test1 / mean_y_test) * 100\n",
    "accuracy_test2 = (1 - mae_test2 / mean_y_test) * 100\n",
    "\n",
    "print(\"Test Set Performance Metrics:\")\n",
    "print(f\"Gradient Descent optimization Weights Line - R-squared Accuracy: {r2_test1:.2f}%, Mean Accuracy: {accuracy_test1:.2f}%\")\n",
    "print(f\"Newton optimization Weights Line - R-squared Accuracy: {r2_test2:.2f}%, Mean Accuracy: {accuracy_test2:.2f}%\")"
   ],
   "outputs": [
    {
     "name": "stdout",
     "output_type": "stream",
     "text": [
      "Test Set Performance Metrics:\n",
      "Gradient Descent optimization Weights Line - R-squared Accuracy: 98.01%, Mean Accuracy: 95.46%\n",
      "Newton optimization Weights Line - R-squared Accuracy: 98.25%, Mean Accuracy: 95.99%\n"
     ]
    }
   ],
   "execution_count": 18
  }
 ],
 "metadata": {
  "kernelspec": {
   "display_name": "venv",
   "language": "python",
   "name": "python3"
  },
  "language_info": {
   "codemirror_mode": {
    "name": "ipython",
    "version": 3
   },
   "file_extension": ".py",
   "mimetype": "text/x-python",
   "name": "python",
   "nbconvert_exporter": "python",
   "pygments_lexer": "ipython3",
   "version": "3.12.6"
  }
 },
 "nbformat": 4,
 "nbformat_minor": 2
}
