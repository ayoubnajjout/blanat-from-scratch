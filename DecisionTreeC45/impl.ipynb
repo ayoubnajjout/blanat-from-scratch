{
 "cells": [
  {
   "cell_type": "code",
   "execution_count": 1,
   "metadata": {},
   "outputs": [],
   "source": [
    "import pandas as pd\n",
    "import numpy as np\n",
    "from sklearn.model_selection import train_test_split"
   ]
  },
  {
   "cell_type": "code",
   "execution_count": 2,
   "metadata": {},
   "outputs": [
    {
     "name": "stdout",
     "output_type": "stream",
     "text": [
      "  CGPA Interactive Practical Knowledge    Skills Job Offer\n",
      "0  >=9         Yes           Very good      Good       Yes\n",
      "1  >=8          No                Good  Moderate       Yes\n",
      "2  >=9          No             Average      Poor        No\n",
      "3   <8          No             Average      Good        No\n",
      "4  >=8         Yes                Good  Moderate       Yes\n",
      "5  >=9         Yes                Good  Moderate       Yes\n",
      "6   <8         Yes                Good      Poor        No\n",
      "7  >=9          No           Very good      Good       Yes\n",
      "8  >=8         Yes                Good      Good       Yes\n",
      "9  >=8         Yes             Average      Good       Yes\n"
     ]
    }
   ],
   "source": [
    "import pandas as pd\n",
    "\n",
    "data = {\n",
    "    'CGPA': ['>=9', '>=8', '>=9', '<8', '>=8', '>=9', '<8', '>=9', '>=8', '>=8'],\n",
    "    'Interactive': ['Yes', 'No', 'No', 'No', 'Yes', 'Yes', 'Yes', 'No', 'Yes', 'Yes'],\n",
    "    'Practical Knowledge': ['Very good', 'Good', 'Average', 'Average', 'Good', 'Good', 'Good', 'Very good', 'Good', 'Average'],\n",
    "    'Skills': ['Good', 'Moderate', 'Poor', 'Good', 'Moderate', 'Moderate', 'Poor', 'Good', 'Good', 'Good'],\n",
    "    'Job Offer': ['Yes', 'Yes', 'No', 'No', 'Yes', 'Yes', 'No', 'Yes', 'Yes', 'Yes']\n",
    "}\n",
    "\n",
    "df = pd.DataFrame(data)\n",
    "\n",
    "print(df)"
   ]
  },
  {
   "cell_type": "code",
   "execution_count": 3,
   "metadata": {},
   "outputs": [
    {
     "name": "stdout",
     "output_type": "stream",
     "text": [
      "CGPA                   int8\n",
      "Interactive            int8\n",
      "Practical Knowledge    int8\n",
      "Skills                 int8\n",
      "Job Offer              int8\n",
      "dtype: object\n"
     ]
    }
   ],
   "source": [
    "df = df.astype('category')\n",
    "\n",
    "df = df.apply(lambda x: x.cat.codes)\n",
    "\n",
    "print(df.dtypes)"
   ]
  },
  {
   "cell_type": "code",
   "execution_count": 4,
   "metadata": {},
   "outputs": [],
   "source": [
    "X = df.drop('Job Offer', axis=1)\n",
    "y = df['Job Offer']\n",
    "\n",
    "X_train, X_test, y_train, y_test = train_test_split(X, y, test_size=0.1, random_state=42)"
   ]
  },
  {
   "cell_type": "code",
   "execution_count": 8,
   "metadata": {},
   "outputs": [
    {
     "name": "stdout",
     "output_type": "stream",
     "text": [
      "Decision Tree C4.5 Accuracy: 100.00%\n"
     ]
    },
    {
     "name": "stderr",
     "output_type": "stream",
     "text": [
      "c:\\Users\\Ayub\\Desktop\\from_scratch.py\\DecisionTreeC45\\decision_tree_c45.py:30: RuntimeWarning: invalid value encountered in scalar divide\n",
      "  return self.__information_gain(x, y) / self.__split_info(x)\n"
     ]
    }
   ],
   "source": [
    "from decision_tree_c45 import DecisionTree\n",
    "from sklearn.metrics import accuracy_score # type: ignore\n",
    "\n",
    "model = DecisionTree(max_depth=4) \n",
    "\n",
    "model.fit(X_train, y_train)\n",
    "\n",
    "predictions = model.predict(X_test)\n",
    "\n",
    "accuracy = accuracy_score(y_test, predictions)\n",
    "\n",
    "print(f\"Decision Tree C4.5 Accuracy: {accuracy * 100:.2f}%\")"
   ]
  }
 ],
 "metadata": {
  "kernelspec": {
   "display_name": "venv",
   "language": "python",
   "name": "python3"
  },
  "language_info": {
   "codemirror_mode": {
    "name": "ipython",
    "version": 3
   },
   "file_extension": ".py",
   "mimetype": "text/x-python",
   "name": "python",
   "nbconvert_exporter": "python",
   "pygments_lexer": "ipython3",
   "version": "3.12.6"
  }
 },
 "nbformat": 4,
 "nbformat_minor": 2
}
